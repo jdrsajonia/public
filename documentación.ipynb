{
  "nbformat": 4,
  "nbformat_minor": 0,
  "metadata": {
    "colab": {
      "provenance": [],
      "toc_visible": true,
      "authorship_tag": "ABX9TyMmrAIrEHGO4hNN4rYG531N",
      "include_colab_link": true
    },
    "kernelspec": {
      "name": "python3",
      "display_name": "Python 3"
    },
    "language_info": {
      "name": "python"
    }
  },
  "cells": [
    {
      "cell_type": "markdown",
      "metadata": {
        "id": "view-in-github",
        "colab_type": "text"
      },
      "source": [
        "<a href=\"https://colab.research.google.com/github/jdrsajonia/public/blob/main/documentaci%C3%B3n.ipynb\" target=\"_parent\"><img src=\"https://colab.research.google.com/assets/colab-badge.svg\" alt=\"Open In Colab\"/></a>"
      ]
    },
    {
      "cell_type": "code",
      "execution_count": 30,
      "metadata": {
        "colab": {
          "base_uri": "https://localhost:8080/",
          "height": 937
        },
        "id": "My-m-SZsHA_h",
        "outputId": "50cfcca1-e380-4d5a-b9a4-5c096799a63a"
      },
      "outputs": [
        {
          "output_type": "stream",
          "name": "stdout",
          "text": [
            "Help on function bhaskara in module __main__:\n",
            "\n",
            "bhaskara(a: float, b: float, c: float) -> float\n",
            "    'bhaskara' es una función para calcular al menos una solución de una ecuación cuadrática dados tres argumentos, \"a\", \"b\" y \"c\" que representan los coeficientes de la misma, teniendo la forma ax^2 + bx + c.\n",
            "    Hay al menos tres casos en los que la función 'bhaskara' retornará algpun error, y estos son:\n",
            "        1. Sintaxis inválida:\n",
            "          Este error sucede cuando el usuario asigna valores para a, b o c, algún valor NO numérico. el programa no podrá ejecutarse. Ejemplo:\n",
            "            >>> bhaskara(f,3,-1)\n",
            "              ...\n",
            "              ValueError: could not convert string to float: 'f'\n",
            "            #Nota: Los mensajes de error se resumirán en \"...\". Solo se dejará la última linea del error para que sea identificable.\n",
            "        2. Error de dominio:\n",
            "          Un error de dominio significa que un valor no puede existir dados ciertos parámetros para una función, en este caso; cuadrática. \n",
            "          En una ecuación de segundo grado esto puede pasar cuando el discriminante es un número menor a 0 ded tal forma que b^2 < 4ac. Ejemplo:\n",
            "            >>> bhaskara(3,2,1)\n",
            "              ...\n",
            "              ValueError: math domain error\n",
            "    \n",
            "        3. Indeterminación:\n",
            "          Una indeterminación en matemáticas se le conoce a un valor que no está definido, como una división entre cero tal que un numero n --> n/0 = indeterminado. Ejemplo:\n",
            "            >>> bhaskara(0,3,-1)\n",
            "              ...\n",
            "              ZeroDivisionError: float division by zero\n",
            "    \n",
            "    \n",
            "    El caso correcto de uso para 'bhaskara' sería con el siguiente ejemplo:\n",
            "      >>> bhaskara(3,2,-1)\n",
            "      0.3333333333333333\n",
            "    Podemos observar como mientras ningún parámetro es string, el discriminante es positivo gracias a que c=-1 y por otro lado a!=0\n",
            "\n",
            "Ingrese a,b y c:\n",
            "\n"
          ]
        },
        {
          "output_type": "error",
          "ename": "KeyboardInterrupt",
          "evalue": "ignored",
          "traceback": [
            "\u001b[0;31m---------------------------------------------------------------------------\u001b[0m",
            "\u001b[0;31mKeyboardInterrupt\u001b[0m                         Traceback (most recent call last)",
            "\u001b[0;32m<ipython-input-30-fbdd98e019fb>\u001b[0m in \u001b[0;36m<module>\u001b[0;34m\u001b[0m\n\u001b[1;32m     32\u001b[0m \u001b[0mhelp\u001b[0m\u001b[0;34m(\u001b[0m\u001b[0mbhaskara\u001b[0m\u001b[0;34m)\u001b[0m\u001b[0;34m\u001b[0m\u001b[0;34m\u001b[0m\u001b[0m\n\u001b[1;32m     33\u001b[0m \u001b[0mprint\u001b[0m\u001b[0;34m(\u001b[0m\u001b[0;34m\"Ingrese a,b y c:\\n\"\u001b[0m\u001b[0;34m)\u001b[0m\u001b[0;34m\u001b[0m\u001b[0;34m\u001b[0m\u001b[0m\n\u001b[0;32m---> 34\u001b[0;31m \u001b[0ma\u001b[0m\u001b[0;34m=\u001b[0m\u001b[0mfloat\u001b[0m\u001b[0;34m(\u001b[0m\u001b[0minput\u001b[0m\u001b[0;34m(\u001b[0m\u001b[0;34m\"a=\"\u001b[0m\u001b[0;34m)\u001b[0m\u001b[0;34m)\u001b[0m\u001b[0;34m\u001b[0m\u001b[0;34m\u001b[0m\u001b[0m\n\u001b[0m\u001b[1;32m     35\u001b[0m \u001b[0mb\u001b[0m\u001b[0;34m=\u001b[0m\u001b[0mfloat\u001b[0m\u001b[0;34m(\u001b[0m\u001b[0minput\u001b[0m\u001b[0;34m(\u001b[0m\u001b[0;34m\"b=\"\u001b[0m\u001b[0;34m)\u001b[0m\u001b[0;34m)\u001b[0m\u001b[0;34m\u001b[0m\u001b[0;34m\u001b[0m\u001b[0m\n\u001b[1;32m     36\u001b[0m \u001b[0mc\u001b[0m\u001b[0;34m=\u001b[0m\u001b[0mfloat\u001b[0m\u001b[0;34m(\u001b[0m\u001b[0minput\u001b[0m\u001b[0;34m(\u001b[0m\u001b[0;34m\"c=\"\u001b[0m\u001b[0;34m)\u001b[0m\u001b[0;34m)\u001b[0m\u001b[0;34m\u001b[0m\u001b[0;34m\u001b[0m\u001b[0m\n",
            "\u001b[0;32m/usr/local/lib/python3.8/dist-packages/ipykernel/kernelbase.py\u001b[0m in \u001b[0;36mraw_input\u001b[0;34m(self, prompt)\u001b[0m\n\u001b[1;32m    858\u001b[0m                 \u001b[0;34m\"raw_input was called, but this frontend does not support input requests.\"\u001b[0m\u001b[0;34m\u001b[0m\u001b[0;34m\u001b[0m\u001b[0m\n\u001b[1;32m    859\u001b[0m             )\n\u001b[0;32m--> 860\u001b[0;31m         return self._input_request(str(prompt),\n\u001b[0m\u001b[1;32m    861\u001b[0m             \u001b[0mself\u001b[0m\u001b[0;34m.\u001b[0m\u001b[0m_parent_ident\u001b[0m\u001b[0;34m,\u001b[0m\u001b[0;34m\u001b[0m\u001b[0;34m\u001b[0m\u001b[0m\n\u001b[1;32m    862\u001b[0m             \u001b[0mself\u001b[0m\u001b[0;34m.\u001b[0m\u001b[0m_parent_header\u001b[0m\u001b[0;34m,\u001b[0m\u001b[0;34m\u001b[0m\u001b[0;34m\u001b[0m\u001b[0m\n",
            "\u001b[0;32m/usr/local/lib/python3.8/dist-packages/ipykernel/kernelbase.py\u001b[0m in \u001b[0;36m_input_request\u001b[0;34m(self, prompt, ident, parent, password)\u001b[0m\n\u001b[1;32m    902\u001b[0m             \u001b[0;32mexcept\u001b[0m \u001b[0mKeyboardInterrupt\u001b[0m\u001b[0;34m:\u001b[0m\u001b[0;34m\u001b[0m\u001b[0;34m\u001b[0m\u001b[0m\n\u001b[1;32m    903\u001b[0m                 \u001b[0;31m# re-raise KeyboardInterrupt, to truncate traceback\u001b[0m\u001b[0;34m\u001b[0m\u001b[0;34m\u001b[0m\u001b[0;34m\u001b[0m\u001b[0m\n\u001b[0;32m--> 904\u001b[0;31m                 \u001b[0;32mraise\u001b[0m \u001b[0mKeyboardInterrupt\u001b[0m\u001b[0;34m(\u001b[0m\u001b[0;34m\"Interrupted by user\"\u001b[0m\u001b[0;34m)\u001b[0m \u001b[0;32mfrom\u001b[0m \u001b[0;32mNone\u001b[0m\u001b[0;34m\u001b[0m\u001b[0;34m\u001b[0m\u001b[0m\n\u001b[0m\u001b[1;32m    905\u001b[0m             \u001b[0;32mexcept\u001b[0m \u001b[0mException\u001b[0m \u001b[0;32mas\u001b[0m \u001b[0me\u001b[0m\u001b[0;34m:\u001b[0m\u001b[0;34m\u001b[0m\u001b[0;34m\u001b[0m\u001b[0m\n\u001b[1;32m    906\u001b[0m                 \u001b[0mself\u001b[0m\u001b[0;34m.\u001b[0m\u001b[0mlog\u001b[0m\u001b[0;34m.\u001b[0m\u001b[0mwarning\u001b[0m\u001b[0;34m(\u001b[0m\u001b[0;34m\"Invalid Message:\"\u001b[0m\u001b[0;34m,\u001b[0m \u001b[0mexc_info\u001b[0m\u001b[0;34m=\u001b[0m\u001b[0;32mTrue\u001b[0m\u001b[0;34m)\u001b[0m\u001b[0;34m\u001b[0m\u001b[0;34m\u001b[0m\u001b[0m\n",
            "\u001b[0;31mKeyboardInterrupt\u001b[0m: Interrupted by user"
          ]
        }
      ],
      "source": [
        "import math\n",
        "def bhaskara(a:float, b:float, c:float)-> float:\n",
        "  \"\"\"'bhaskara' es una función para calcular al menos una solución de una ecuación cuadrática dados tres argumentos, \"a\", \"b\" y \"c\" que representan los coeficientes de la misma, teniendo la forma ax^2 + bx + c.\n",
        "\n",
        "\n",
        "  Hay al menos tres casos en los que la función 'bhaskara' retornará algpun error, y estos son:\n",
        "  \n",
        "      1. Sintaxis inválida:\n",
        "        Este error sucede cuando el usuario asigna valores para a, b o c, algún valor NO numérico. el programa no podrá ejecutarse. Ejemplo:\n",
        "          >>> bhaskara(f,3,-1)\n",
        "            ...\n",
        "            ValueError: could not convert string to float: 'f'\n",
        "          #Nota: Los mensajes de error se resumirán en \"...\". Solo se dejará la última linea del error para que sea identificable.\n",
        "      2. Error de dominio:\n",
        "        Un error de dominio significa que un valor no puede existir dados ciertos parámetros para una función, en este caso; cuadrática. \n",
        "        En una ecuación de segundo grado esto puede pasar cuando el discriminante es un número menor a 0 ded tal forma que b^2 < 4ac. Ejemplo:\n",
        "          >>> bhaskara(3,2,1)\n",
        "            ...\n",
        "            ValueError: math domain error\n",
        "\n",
        "      3. Indeterminación:\n",
        "        Una indeterminación en matemáticas se le conoce a un valor que no está definido, como una división entre cero tal que un numero n --> n/0 = indeterminado. Ejemplo:\n",
        "          >>> bhaskara(0,3,-1)\n",
        "            ...\n",
        "            ZeroDivisionError: float division by zero\n",
        "\n",
        "\n",
        "  El caso correcto de uso para 'bhaskara' sería con el siguiente ejemplo:\n",
        "    >>> bhaskara(3,2,-1)\n",
        "    0.3333333333333333\n",
        "  Podemos observar como mientras ningún parámetro es string, el discriminante es positivo gracias a que c=-1 y por otro lado a!=0\n",
        "        \"\"\"\n",
        "  return (-b + math.sqrt(b*b-4*a*c))/(2*a)\n",
        "  \n",
        "help(bhaskara)\n",
        "print(\"Ingrese a,b y c:\\n\")\n",
        "a=float(input(\"a=\"))\n",
        "b=float(input(\"b=\"))\n",
        "c=float(input(\"c=\"))\n",
        "print(bhaskara(a,b,c))\n"
      ]
    },
    {
      "cell_type": "code",
      "source": [
        "\n"
      ],
      "metadata": {
        "id": "6-LiB7zsagSA"
      },
      "execution_count": null,
      "outputs": []
    },
    {
      "cell_type": "markdown",
      "source": [
        "\n",
        "\n",
        "```\n",
        "# Tiene formato de código\n",
        "```\n",
        "a=0\n",
        "a\n",
        "\n"
      ],
      "metadata": {
        "id": "pyThu8ykPD4I"
      }
    }
  ]
}